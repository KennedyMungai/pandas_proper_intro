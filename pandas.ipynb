{
 "cells": [
  {
   "attachments": {},
   "cell_type": "markdown",
   "metadata": {},
   "source": [
    "<h1>Pandas Intro</h1>"
   ]
  },
  {
   "cell_type": "code",
   "execution_count": 2,
   "metadata": {},
   "outputs": [],
   "source": [
    "import pandas as pd"
   ]
  },
  {
   "attachments": {},
   "cell_type": "markdown",
   "metadata": {},
   "source": [
    "<p>An Empty Series</p>"
   ]
  },
  {
   "cell_type": "code",
   "execution_count": 3,
   "metadata": {},
   "outputs": [
    {
     "name": "stdout",
     "output_type": "stream",
     "text": [
      "Series([], dtype: object)\n"
     ]
    }
   ],
   "source": [
    "my_series = pd.Series()\n",
    "print(my_series)"
   ]
  },
  {
   "cell_type": "code",
   "execution_count": 4,
   "metadata": {},
   "outputs": [],
   "source": [
    "import numpy as np"
   ]
  },
  {
   "cell_type": "code",
   "execution_count": 5,
   "metadata": {},
   "outputs": [
    {
     "name": "stdout",
     "output_type": "stream",
     "text": [
      "0    10\n",
      "1    20\n",
      "2    30\n",
      "3    40\n",
      "4    50\n",
      "dtype: int64\n"
     ]
    }
   ],
   "source": [
    "my_array = np.array([10, 20, 30, 40, 50])\n",
    "my_series = pd.Series(my_array)\n",
    "\n",
    "print(my_series)"
   ]
  },
  {
   "attachments": {},
   "cell_type": "markdown",
   "metadata": {},
   "source": [
    "<p>Custom Indices</p>"
   ]
  },
  {
   "cell_type": "code",
   "execution_count": 6,
   "metadata": {},
   "outputs": [
    {
     "name": "stdout",
     "output_type": "stream",
     "text": [
      "num1    10\n",
      "num2    20\n",
      "num3    30\n",
      "num4    40\n",
      "num5    50\n",
      "dtype: int64\n"
     ]
    }
   ],
   "source": [
    "my_series = pd.Series(my_array, index=[\"num1\", \"num2\", \"num3\", \"num4\", \"num5\"])\n",
    "print(my_series)"
   ]
  },
  {
   "attachments": {},
   "cell_type": "markdown",
   "metadata": {},
   "source": [
    "<p>Passing Indices on series definition</p>"
   ]
  },
  {
   "cell_type": "code",
   "execution_count": 7,
   "metadata": {},
   "outputs": [
    {
     "name": "stdout",
     "output_type": "stream",
     "text": [
      "num1    10\n",
      "num2    20\n",
      "num3    30\n",
      "num4    40\n",
      "num5    50\n",
      "dtype: int64\n"
     ]
    }
   ],
   "source": [
    "my_series = pd.Series([10, 20, 30, 40, 50], index=([\"num1\", \"num2\", \"num3\", \"num4\", \"num5\"]))\n",
    "print(my_series)"
   ]
  },
  {
   "attachments": {},
   "cell_type": "markdown",
   "metadata": {},
   "source": [
    "<p>Defining A Series Using Scalar Values</p>"
   ]
  },
  {
   "cell_type": "code",
   "execution_count": 9,
   "metadata": {},
   "outputs": [
    {
     "name": "stdout",
     "output_type": "stream",
     "text": [
      "num1    25\n",
      "num2    25\n",
      "num3    25\n",
      "num4    25\n",
      "num5    25\n",
      "dtype: int64\n"
     ]
    }
   ],
   "source": [
    "my_series=pd.Series(25, index=([\"num1\", \"num2\", \"num3\", \"num4\", \"num5\"]))\n",
    "print(my_series)"
   ]
  },
  {
   "attachments": {},
   "cell_type": "markdown",
   "metadata": {},
   "source": [
    "<p>Defining a series using a dictionary</p>"
   ]
  },
  {
   "cell_type": "code",
   "execution_count": 10,
   "metadata": {},
   "outputs": [
    {
     "name": "stdout",
     "output_type": "stream",
     "text": [
      "num1    8\n",
      "dtype: int64\n"
     ]
    }
   ],
   "source": [
    "my_dict = {\n",
    "    \"num1\": 6,\n",
    "    \"num1\": 7,\n",
    "    \"num1\": 8\n",
    "}\n",
    "\n",
    "my_series = pd.Series(my_dict)\n",
    "print(my_series)"
   ]
  },
  {
   "attachments": {},
   "cell_type": "markdown",
   "metadata": {},
   "source": [
    "<p>Finding the Min and Max values in a series</p>"
   ]
  },
  {
   "cell_type": "code",
   "execution_count": 11,
   "metadata": {},
   "outputs": [
    {
     "name": "stdout",
     "output_type": "stream",
     "text": [
      "Series Min\n",
      "1\n",
      "Series Max\n",
      "5\n"
     ]
    }
   ],
   "source": [
    "import pandas as pd\n",
    "my_series = pd.Series([1, 2, 3, 4, 5])\n",
    "\n",
    "print(\"Series Min\")\n",
    "print(np.min(my_series))\n",
    "print(\"Series Max\")\n",
    "print(np.max(my_series))"
   ]
  }
 ],
 "metadata": {
  "kernelspec": {
   "display_name": "pandas",
   "language": "python",
   "name": "python3"
  },
  "language_info": {
   "codemirror_mode": {
    "name": "ipython",
    "version": 3
   },
   "file_extension": ".py",
   "mimetype": "text/x-python",
   "name": "python",
   "nbconvert_exporter": "python",
   "pygments_lexer": "ipython3",
   "version": "3.10.6"
  },
  "orig_nbformat": 4
 },
 "nbformat": 4,
 "nbformat_minor": 2
}
