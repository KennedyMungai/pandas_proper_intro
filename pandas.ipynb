{
 "cells": [
  {
   "attachments": {},
   "cell_type": "markdown",
   "metadata": {},
   "source": [
    "<h1>Pandas Intro</h1>"
   ]
  },
  {
   "cell_type": "code",
   "execution_count": 2,
   "metadata": {},
   "outputs": [],
   "source": [
    "import pandas as pd"
   ]
  },
  {
   "attachments": {},
   "cell_type": "markdown",
   "metadata": {},
   "source": [
    "<p>An Empty Series</p>"
   ]
  },
  {
   "cell_type": "code",
   "execution_count": 3,
   "metadata": {},
   "outputs": [
    {
     "name": "stdout",
     "output_type": "stream",
     "text": [
      "Series([], dtype: object)\n"
     ]
    }
   ],
   "source": [
    "my_series = pd.Series()\n",
    "print(my_series)"
   ]
  },
  {
   "cell_type": "code",
   "execution_count": 4,
   "metadata": {},
   "outputs": [],
   "source": [
    "import numpy as np"
   ]
  },
  {
   "cell_type": "code",
   "execution_count": 5,
   "metadata": {},
   "outputs": [
    {
     "name": "stdout",
     "output_type": "stream",
     "text": [
      "0    10\n",
      "1    20\n",
      "2    30\n",
      "3    40\n",
      "4    50\n",
      "dtype: int64\n"
     ]
    }
   ],
   "source": [
    "my_array = np.array([10, 20, 30, 40, 50])\n",
    "my_series = pd.Series(my_array)\n",
    "\n",
    "print(my_series)"
   ]
  },
  {
   "attachments": {},
   "cell_type": "markdown",
   "metadata": {},
   "source": [
    "<p>Custom Indices</p>"
   ]
  },
  {
   "cell_type": "code",
   "execution_count": 6,
   "metadata": {},
   "outputs": [
    {
     "name": "stdout",
     "output_type": "stream",
     "text": [
      "num1    10\n",
      "num2    20\n",
      "num3    30\n",
      "num4    40\n",
      "num5    50\n",
      "dtype: int64\n"
     ]
    }
   ],
   "source": [
    "my_series = pd.Series(my_array, index=[\"num1\", \"num2\", \"num3\", \"num4\", \"num5\"])\n",
    "print(my_series)"
   ]
  },
  {
   "attachments": {},
   "cell_type": "markdown",
   "metadata": {},
   "source": [
    "<p>Passing Indices on series definition</p>"
   ]
  },
  {
   "cell_type": "code",
   "execution_count": 7,
   "metadata": {},
   "outputs": [
    {
     "name": "stdout",
     "output_type": "stream",
     "text": [
      "num1    10\n",
      "num2    20\n",
      "num3    30\n",
      "num4    40\n",
      "num5    50\n",
      "dtype: int64\n"
     ]
    }
   ],
   "source": [
    "my_series = pd.Series([10, 20, 30, 40, 50], index=([\"num1\", \"num2\", \"num3\", \"num4\", \"num5\"]))\n",
    "print(my_series)"
   ]
  },
  {
   "attachments": {},
   "cell_type": "markdown",
   "metadata": {},
   "source": [
    "<p>Defining A Series Using Scalar Values</p>"
   ]
  },
  {
   "cell_type": "code",
   "execution_count": 9,
   "metadata": {},
   "outputs": [
    {
     "name": "stdout",
     "output_type": "stream",
     "text": [
      "num1    25\n",
      "num2    25\n",
      "num3    25\n",
      "num4    25\n",
      "num5    25\n",
      "dtype: int64\n"
     ]
    }
   ],
   "source": [
    "my_series=pd.Series(25, index=([\"num1\", \"num2\", \"num3\", \"num4\", \"num5\"]))\n",
    "print(my_series)"
   ]
  },
  {
   "attachments": {},
   "cell_type": "markdown",
   "metadata": {},
   "source": [
    "<p>Defining a series using a dictionary</p>"
   ]
  },
  {
   "cell_type": "code",
   "execution_count": 10,
   "metadata": {},
   "outputs": [
    {
     "name": "stdout",
     "output_type": "stream",
     "text": [
      "num1    8\n",
      "dtype: int64\n"
     ]
    }
   ],
   "source": [
    "my_dict = {\n",
    "    \"num1\": 6,\n",
    "    \"num1\": 7,\n",
    "    \"num1\": 8\n",
    "}\n",
    "\n",
    "my_series = pd.Series(my_dict)\n",
    "print(my_series)"
   ]
  },
  {
   "attachments": {},
   "cell_type": "markdown",
   "metadata": {},
   "source": [
    "<p>Finding the Min and Max values in a series</p>"
   ]
  },
  {
   "cell_type": "code",
   "execution_count": 11,
   "metadata": {},
   "outputs": [
    {
     "name": "stdout",
     "output_type": "stream",
     "text": [
      "Series Min\n",
      "1\n",
      "Series Max\n",
      "5\n"
     ]
    }
   ],
   "source": [
    "import pandas as pd\n",
    "my_series = pd.Series([1, 2, 3, 4, 5])\n",
    "\n",
    "print(\"Series Min\")\n",
    "print(np.min(my_series))\n",
    "print(\"Series Max\")\n",
    "print(np.max(my_series))"
   ]
  },
  {
   "attachments": {},
   "cell_type": "markdown",
   "metadata": {},
   "source": [
    "<p>The Mean in a series</p>"
   ]
  },
  {
   "cell_type": "code",
   "execution_count": 13,
   "metadata": {},
   "outputs": [
    {
     "name": "stdout",
     "output_type": "stream",
     "text": [
      "3.0\n",
      "3.0\n"
     ]
    }
   ],
   "source": [
    "print(my_series.mean())\n",
    "print(np.mean(my_series))"
   ]
  },
  {
   "attachments": {},
   "cell_type": "markdown",
   "metadata": {},
   "source": [
    "<p>Finding the Median of a series</p>"
   ]
  },
  {
   "cell_type": "code",
   "execution_count": 15,
   "metadata": {},
   "outputs": [
    {
     "name": "stdout",
     "output_type": "stream",
     "text": [
      "3.0\n",
      "3.0\n"
     ]
    }
   ],
   "source": [
    "print(my_series.median())\n",
    "print(np.median(my_series))"
   ]
  },
  {
   "attachments": {},
   "cell_type": "markdown",
   "metadata": {},
   "source": [
    "<p>Finding the data type of a series</p>"
   ]
  },
  {
   "cell_type": "code",
   "execution_count": 16,
   "metadata": {},
   "outputs": [
    {
     "name": "stdout",
     "output_type": "stream",
     "text": [
      "int64\n"
     ]
    }
   ],
   "source": [
    "print(my_series.dtype)"
   ]
  },
  {
   "attachments": {},
   "cell_type": "markdown",
   "metadata": {},
   "source": [
    "<p>Converting a pandas series to a list</p>"
   ]
  },
  {
   "cell_type": "code",
   "execution_count": 17,
   "metadata": {},
   "outputs": [
    {
     "name": "stdout",
     "output_type": "stream",
     "text": [
      "[1, 2, 3, 4, 5]\n"
     ]
    }
   ],
   "source": [
    "print(my_series.tolist())"
   ]
  },
  {
   "attachments": {},
   "cell_type": "markdown",
   "metadata": {},
   "source": [
    "<h2>Pandas DataFrame</h2>"
   ]
  },
  {
   "attachments": {},
   "cell_type": "markdown",
   "metadata": {},
   "source": [
    "<p>Empty DataFrame</p>"
   ]
  },
  {
   "cell_type": "code",
   "execution_count": 18,
   "metadata": {},
   "outputs": [
    {
     "name": "stdout",
     "output_type": "stream",
     "text": [
      "Empty DataFrame\n",
      "Columns: []\n",
      "Index: []\n"
     ]
    }
   ],
   "source": [
    "my_df = pd.DataFrame()\n",
    "print(my_df)"
   ]
  },
  {
   "attachments": {},
   "cell_type": "markdown",
   "metadata": {},
   "source": [
    "<p>Creating a Dataframe using a 2D list</p>"
   ]
  },
  {
   "cell_type": "code",
   "execution_count": 19,
   "metadata": {},
   "outputs": [
    {
     "data": {
      "text/html": [
       "<div>\n",
       "<style scoped>\n",
       "    .dataframe tbody tr th:only-of-type {\n",
       "        vertical-align: middle;\n",
       "    }\n",
       "\n",
       "    .dataframe tbody tr th {\n",
       "        vertical-align: top;\n",
       "    }\n",
       "\n",
       "    .dataframe thead th {\n",
       "        text-align: right;\n",
       "    }\n",
       "</style>\n",
       "<table border=\"1\" class=\"dataframe\">\n",
       "  <thead>\n",
       "    <tr style=\"text-align: right;\">\n",
       "      <th></th>\n",
       "      <th>Subject</th>\n",
       "      <th>Score</th>\n",
       "    </tr>\n",
       "  </thead>\n",
       "  <tbody>\n",
       "    <tr>\n",
       "      <th>0</th>\n",
       "      <td>Mathematics</td>\n",
       "      <td>85</td>\n",
       "    </tr>\n",
       "    <tr>\n",
       "      <th>1</th>\n",
       "      <td>English</td>\n",
       "      <td>91</td>\n",
       "    </tr>\n",
       "    <tr>\n",
       "      <th>2</th>\n",
       "      <td>History</td>\n",
       "      <td>95</td>\n",
       "    </tr>\n",
       "  </tbody>\n",
       "</table>\n",
       "</div>"
      ],
      "text/plain": [
       "       Subject  Score\n",
       "0  Mathematics     85\n",
       "1      English     91\n",
       "2      History     95"
      ]
     },
     "execution_count": 19,
     "metadata": {},
     "output_type": "execute_result"
    }
   ],
   "source": [
    "import pandas as pd\n",
    "scores = [\n",
    "    [\"Mathematics\", 85],\n",
    "    [\"English\", 91],\n",
    "    [\"History\", 95]\n",
    "]\n",
    "\n",
    "my_df = pd.DataFrame(scores, columns=[\"Subject\", \"Score\"])\n",
    "my_df"
   ]
  },
  {
   "attachments": {},
   "cell_type": "markdown",
   "metadata": {},
   "source": [
    "<P>Create a Dataframe using dictionaries</P>"
   ]
  },
  {
   "cell_type": "code",
   "execution_count": 20,
   "metadata": {},
   "outputs": [
    {
     "name": "stdout",
     "output_type": "stream",
     "text": [
      "       Subject  Score\n",
      "0  Mathematics     98\n",
      "1      History     75\n",
      "2      English     68\n",
      "3      Science     82\n",
      "4         Arts     99\n"
     ]
    }
   ],
   "source": [
    "scores = {\n",
    "    'Subject': [\"Mathematics\", \"History\", \"English\", \"Science\", \"Arts\"],\n",
    "    'Score': [98, 75, 68, 82, 99]\n",
    "}\n",
    "\n",
    "my_df = pd.DataFrame(scores)\n",
    "\n",
    "print(my_df)"
   ]
  },
  {
   "attachments": {},
   "cell_type": "markdown",
   "metadata": {},
   "source": [
    "<p>Creating a DataFrame using a List of strings</p>"
   ]
  },
  {
   "cell_type": "code",
   "execution_count": 21,
   "metadata": {},
   "outputs": [
    {
     "name": "stdout",
     "output_type": "stream",
     "text": [
      "       Subject  Score\n",
      "0  Mathematics     90\n",
      "1      English     75\n",
      "2    Geography     85\n",
      "3      History     80\n",
      "4  Programming    100\n"
     ]
    }
   ],
   "source": [
    "import pandas as pd\n",
    "scores = [\n",
    "    {'Subject': 'Mathematics', 'Score': 90},\n",
    "    {'Subject': 'English', 'Score': 75},\n",
    "    {'Subject': 'Geography', 'Score': 85},\n",
    "    {'Subject': 'History', 'Score': 80},\n",
    "    {'Subject': 'Programming', 'Score': 100},\n",
    "]\n",
    "\n",
    "my_df = pd.DataFrame(scores)\n",
    "print(my_df)"
   ]
  },
  {
   "attachments": {},
   "cell_type": "markdown",
   "metadata": {},
   "source": [
    "<p>A dataframe using a list if dictionaries using null items</p>"
   ]
  },
  {
   "cell_type": "code",
   "execution_count": 23,
   "metadata": {},
   "outputs": [
    {
     "name": "stdout",
     "output_type": "stream",
     "text": [
      "       Subject  Score\n",
      "0  Mathematics     85\n",
      "1      English     75\n",
      "2    Geography     93\n",
      "3    Geography     95\n",
      "4      History     80\n",
      "5          NaN     72\n"
     ]
    }
   ],
   "source": [
    "scores = [\n",
    "    {'Subject': 'Mathematics', 'Score': 85},\n",
    "    {'Subject': 'English', 'Score': 75},\n",
    "    {'Subject': 'Geography', 'Score': 93},\n",
    "    {'Subject': 'Geography', 'Score': 95},\n",
    "    {'Subject': 'History', 'Score': 80},\n",
    "    {'Score': 72}\n",
    "]\n",
    "\n",
    "my_df = pd.DataFrame(scores)\n",
    "print(my_df)"
   ]
  },
  {
   "attachments": {},
   "cell_type": "markdown",
   "metadata": {},
   "source": [
    "<p>Using DataFrames to view sample data at the top of the record</p>"
   ]
  },
  {
   "cell_type": "code",
   "execution_count": 25,
   "metadata": {},
   "outputs": [
    {
     "data": {
      "text/html": [
       "<div>\n",
       "<style scoped>\n",
       "    .dataframe tbody tr th:only-of-type {\n",
       "        vertical-align: middle;\n",
       "    }\n",
       "\n",
       "    .dataframe tbody tr th {\n",
       "        vertical-align: top;\n",
       "    }\n",
       "\n",
       "    .dataframe thead th {\n",
       "        text-align: right;\n",
       "    }\n",
       "</style>\n",
       "<table border=\"1\" class=\"dataframe\">\n",
       "  <thead>\n",
       "    <tr style=\"text-align: right;\">\n",
       "      <th></th>\n",
       "      <th>Subject</th>\n",
       "      <th>Score</th>\n",
       "    </tr>\n",
       "  </thead>\n",
       "  <tbody>\n",
       "    <tr>\n",
       "      <th>0</th>\n",
       "      <td>Mathematics</td>\n",
       "      <td>85</td>\n",
       "    </tr>\n",
       "    <tr>\n",
       "      <th>1</th>\n",
       "      <td>English</td>\n",
       "      <td>75</td>\n",
       "    </tr>\n",
       "  </tbody>\n",
       "</table>\n",
       "</div>"
      ],
      "text/plain": [
       "       Subject  Score\n",
       "0  Mathematics     85\n",
       "1      English     75"
      ]
     },
     "execution_count": 25,
     "metadata": {},
     "output_type": "execute_result"
    }
   ],
   "source": [
    "my_df.head(2)"
   ]
  },
  {
   "attachments": {},
   "cell_type": "markdown",
   "metadata": {},
   "source": [
    "<p>Using Dataframes to view sample data from the bottom of the record</p>"
   ]
  },
  {
   "cell_type": "code",
   "execution_count": 26,
   "metadata": {},
   "outputs": [
    {
     "data": {
      "text/html": [
       "<div>\n",
       "<style scoped>\n",
       "    .dataframe tbody tr th:only-of-type {\n",
       "        vertical-align: middle;\n",
       "    }\n",
       "\n",
       "    .dataframe tbody tr th {\n",
       "        vertical-align: top;\n",
       "    }\n",
       "\n",
       "    .dataframe thead th {\n",
       "        text-align: right;\n",
       "    }\n",
       "</style>\n",
       "<table border=\"1\" class=\"dataframe\">\n",
       "  <thead>\n",
       "    <tr style=\"text-align: right;\">\n",
       "      <th></th>\n",
       "      <th>Subject</th>\n",
       "      <th>Score</th>\n",
       "    </tr>\n",
       "  </thead>\n",
       "  <tbody>\n",
       "    <tr>\n",
       "      <th>4</th>\n",
       "      <td>History</td>\n",
       "      <td>80</td>\n",
       "    </tr>\n",
       "    <tr>\n",
       "      <th>5</th>\n",
       "      <td>NaN</td>\n",
       "      <td>72</td>\n",
       "    </tr>\n",
       "  </tbody>\n",
       "</table>\n",
       "</div>"
      ],
      "text/plain": [
       "   Subject  Score\n",
       "4  History     80\n",
       "5      NaN     72"
      ]
     },
     "execution_count": 26,
     "metadata": {},
     "output_type": "execute_result"
    }
   ],
   "source": [
    "my_df.tail(2)"
   ]
  },
  {
   "attachments": {},
   "cell_type": "markdown",
   "metadata": {},
   "source": [
    "<p>Getting the summary of a Dataframe</p>"
   ]
  },
  {
   "cell_type": "code",
   "execution_count": 27,
   "metadata": {},
   "outputs": [
    {
     "name": "stdout",
     "output_type": "stream",
     "text": [
      "<class 'pandas.core.frame.DataFrame'>\n",
      "RangeIndex: 6 entries, 0 to 5\n",
      "Data columns (total 2 columns):\n",
      " #   Column   Non-Null Count  Dtype \n",
      "---  ------   --------------  ----- \n",
      " 0   Subject  5 non-null      object\n",
      " 1   Score    6 non-null      int64 \n",
      "dtypes: int64(1), object(1)\n",
      "memory usage: 224.0+ bytes\n"
     ]
    }
   ],
   "source": [
    "my_df.info()"
   ]
  },
  {
   "attachments": {},
   "cell_type": "markdown",
   "metadata": {},
   "source": [
    "<p>Getting information on numeric columns for the dataframe</p>"
   ]
  },
  {
   "cell_type": "code",
   "execution_count": 28,
   "metadata": {},
   "outputs": [
    {
     "data": {
      "text/html": [
       "<div>\n",
       "<style scoped>\n",
       "    .dataframe tbody tr th:only-of-type {\n",
       "        vertical-align: middle;\n",
       "    }\n",
       "\n",
       "    .dataframe tbody tr th {\n",
       "        vertical-align: top;\n",
       "    }\n",
       "\n",
       "    .dataframe thead th {\n",
       "        text-align: right;\n",
       "    }\n",
       "</style>\n",
       "<table border=\"1\" class=\"dataframe\">\n",
       "  <thead>\n",
       "    <tr style=\"text-align: right;\">\n",
       "      <th></th>\n",
       "      <th>Score</th>\n",
       "    </tr>\n",
       "  </thead>\n",
       "  <tbody>\n",
       "    <tr>\n",
       "      <th>count</th>\n",
       "      <td>6.000000</td>\n",
       "    </tr>\n",
       "    <tr>\n",
       "      <th>mean</th>\n",
       "      <td>83.333333</td>\n",
       "    </tr>\n",
       "    <tr>\n",
       "      <th>std</th>\n",
       "      <td>9.395034</td>\n",
       "    </tr>\n",
       "    <tr>\n",
       "      <th>min</th>\n",
       "      <td>72.000000</td>\n",
       "    </tr>\n",
       "    <tr>\n",
       "      <th>25%</th>\n",
       "      <td>76.250000</td>\n",
       "    </tr>\n",
       "    <tr>\n",
       "      <th>50%</th>\n",
       "      <td>82.500000</td>\n",
       "    </tr>\n",
       "    <tr>\n",
       "      <th>75%</th>\n",
       "      <td>91.000000</td>\n",
       "    </tr>\n",
       "    <tr>\n",
       "      <th>max</th>\n",
       "      <td>95.000000</td>\n",
       "    </tr>\n",
       "  </tbody>\n",
       "</table>\n",
       "</div>"
      ],
      "text/plain": [
       "           Score\n",
       "count   6.000000\n",
       "mean   83.333333\n",
       "std     9.395034\n",
       "min    72.000000\n",
       "25%    76.250000\n",
       "50%    82.500000\n",
       "75%    91.000000\n",
       "max    95.000000"
      ]
     },
     "execution_count": 28,
     "metadata": {},
     "output_type": "execute_result"
    }
   ],
   "source": [
    "my_df.describe()"
   ]
  },
  {
   "attachments": {},
   "cell_type": "markdown",
   "metadata": {},
   "source": [
    "<h2>Importing data in Pandas</h2>"
   ]
  },
  {
   "attachments": {},
   "cell_type": "markdown",
   "metadata": {},
   "source": [
    "<p>Importing CSV files</p>"
   ]
  },
  {
   "cell_type": "code",
   "execution_count": 31,
   "metadata": {},
   "outputs": [
    {
     "data": {
      "text/html": [
       "<div>\n",
       "<style scoped>\n",
       "    .dataframe tbody tr th:only-of-type {\n",
       "        vertical-align: middle;\n",
       "    }\n",
       "\n",
       "    .dataframe tbody tr th {\n",
       "        vertical-align: top;\n",
       "    }\n",
       "\n",
       "    .dataframe thead th {\n",
       "        text-align: right;\n",
       "    }\n",
       "</style>\n",
       "<table border=\"1\" class=\"dataframe\">\n",
       "  <thead>\n",
       "    <tr style=\"text-align: right;\">\n",
       "      <th></th>\n",
       "      <th>Question</th>\n",
       "      <th>Segment Type</th>\n",
       "      <th>Segment Description</th>\n",
       "      <th>Answer</th>\n",
       "      <th>Count</th>\n",
       "      <th>Percentage</th>\n",
       "    </tr>\n",
       "  </thead>\n",
       "  <tbody>\n",
       "    <tr>\n",
       "      <th>0</th>\n",
       "      <td>What do you think when an influencer is obviou...</td>\n",
       "      <td>Mobile</td>\n",
       "      <td>Global results</td>\n",
       "      <td>Is this product cool?</td>\n",
       "      <td>268</td>\n",
       "      <td>0.226</td>\n",
       "    </tr>\n",
       "    <tr>\n",
       "      <th>1</th>\n",
       "      <td>What do you think when an influencer is obviou...</td>\n",
       "      <td>Mobile</td>\n",
       "      <td>Global results</td>\n",
       "      <td>This is lame</td>\n",
       "      <td>532</td>\n",
       "      <td>0.449</td>\n",
       "    </tr>\n",
       "    <tr>\n",
       "      <th>2</th>\n",
       "      <td>What do you think when an influencer is obviou...</td>\n",
       "      <td>Mobile</td>\n",
       "      <td>Global results</td>\n",
       "      <td>Get that money!</td>\n",
       "      <td>293</td>\n",
       "      <td>0.247</td>\n",
       "    </tr>\n",
       "    <tr>\n",
       "      <th>3</th>\n",
       "      <td>What do you think when an influencer is obviou...</td>\n",
       "      <td>Mobile</td>\n",
       "      <td>Global results</td>\n",
       "      <td>Other (comment)</td>\n",
       "      <td>91</td>\n",
       "      <td>0.077</td>\n",
       "    </tr>\n",
       "    <tr>\n",
       "      <th>4</th>\n",
       "      <td>What do you think when an influencer is obviou...</td>\n",
       "      <td>Web</td>\n",
       "      <td>Web</td>\n",
       "      <td>Is this product cool?</td>\n",
       "      <td>0</td>\n",
       "      <td>0.000</td>\n",
       "    </tr>\n",
       "    <tr>\n",
       "      <th>5</th>\n",
       "      <td>What do you think when an influencer is obviou...</td>\n",
       "      <td>Web</td>\n",
       "      <td>Web</td>\n",
       "      <td>This is lame</td>\n",
       "      <td>0</td>\n",
       "      <td>0.000</td>\n",
       "    </tr>\n",
       "    <tr>\n",
       "      <th>6</th>\n",
       "      <td>What do you think when an influencer is obviou...</td>\n",
       "      <td>Web</td>\n",
       "      <td>Web</td>\n",
       "      <td>Get that money!</td>\n",
       "      <td>0</td>\n",
       "      <td>0.000</td>\n",
       "    </tr>\n",
       "    <tr>\n",
       "      <th>7</th>\n",
       "      <td>What do you think when an influencer is obviou...</td>\n",
       "      <td>Web</td>\n",
       "      <td>Web</td>\n",
       "      <td>Other (comment)</td>\n",
       "      <td>0</td>\n",
       "      <td>0.000</td>\n",
       "    </tr>\n",
       "    <tr>\n",
       "      <th>8</th>\n",
       "      <td>What do you think when an influencer is obviou...</td>\n",
       "      <td>Gender</td>\n",
       "      <td>Female voters</td>\n",
       "      <td>Is this product cool?</td>\n",
       "      <td>71</td>\n",
       "      <td>0.165</td>\n",
       "    </tr>\n",
       "    <tr>\n",
       "      <th>9</th>\n",
       "      <td>What do you think when an influencer is obviou...</td>\n",
       "      <td>Gender</td>\n",
       "      <td>Female voters</td>\n",
       "      <td>This is lame</td>\n",
       "      <td>220</td>\n",
       "      <td>0.510</td>\n",
       "    </tr>\n",
       "  </tbody>\n",
       "</table>\n",
       "</div>"
      ],
      "text/plain": [
       "                                            Question Segment Type   \n",
       "0  What do you think when an influencer is obviou...       Mobile  \\\n",
       "1  What do you think when an influencer is obviou...       Mobile   \n",
       "2  What do you think when an influencer is obviou...       Mobile   \n",
       "3  What do you think when an influencer is obviou...       Mobile   \n",
       "4  What do you think when an influencer is obviou...          Web   \n",
       "5  What do you think when an influencer is obviou...          Web   \n",
       "6  What do you think when an influencer is obviou...          Web   \n",
       "7  What do you think when an influencer is obviou...          Web   \n",
       "8  What do you think when an influencer is obviou...       Gender   \n",
       "9  What do you think when an influencer is obviou...       Gender   \n",
       "\n",
       "  Segment Description                 Answer  Count  Percentage  \n",
       "0      Global results  Is this product cool?    268       0.226  \n",
       "1      Global results           This is lame    532       0.449  \n",
       "2      Global results       Get that money!     293       0.247  \n",
       "3      Global results       Other (comment)      91       0.077  \n",
       "4                 Web  Is this product cool?      0       0.000  \n",
       "5                 Web           This is lame      0       0.000  \n",
       "6                 Web       Get that money!       0       0.000  \n",
       "7                 Web       Other (comment)       0       0.000  \n",
       "8       Female voters  Is this product cool?     71       0.165  \n",
       "9       Female voters           This is lame    220       0.510  "
      ]
     },
     "execution_count": 31,
     "metadata": {},
     "output_type": "execute_result"
    }
   ],
   "source": [
    "some_data = pd.read_csv('./Whatsgoodly - Thought Catalog Influencers.csv')\n",
    "some_data.head(10)"
   ]
  },
  {
   "cell_type": "code",
   "execution_count": 32,
   "metadata": {},
   "outputs": [
    {
     "data": {
      "text/html": [
       "<div>\n",
       "<style scoped>\n",
       "    .dataframe tbody tr th:only-of-type {\n",
       "        vertical-align: middle;\n",
       "    }\n",
       "\n",
       "    .dataframe tbody tr th {\n",
       "        vertical-align: top;\n",
       "    }\n",
       "\n",
       "    .dataframe thead th {\n",
       "        text-align: right;\n",
       "    }\n",
       "</style>\n",
       "<table border=\"1\" class=\"dataframe\">\n",
       "  <thead>\n",
       "    <tr style=\"text-align: right;\">\n",
       "      <th></th>\n",
       "      <th>Count</th>\n",
       "      <th>Percentage</th>\n",
       "    </tr>\n",
       "  </thead>\n",
       "  <tbody>\n",
       "    <tr>\n",
       "      <th>count</th>\n",
       "      <td>5460.000000</td>\n",
       "      <td>5460.000000</td>\n",
       "    </tr>\n",
       "    <tr>\n",
       "      <th>mean</th>\n",
       "      <td>36.229121</td>\n",
       "      <td>0.249451</td>\n",
       "    </tr>\n",
       "    <tr>\n",
       "      <th>std</th>\n",
       "      <td>91.652298</td>\n",
       "      <td>0.283424</td>\n",
       "    </tr>\n",
       "    <tr>\n",
       "      <th>min</th>\n",
       "      <td>0.000000</td>\n",
       "      <td>0.000000</td>\n",
       "    </tr>\n",
       "    <tr>\n",
       "      <th>25%</th>\n",
       "      <td>0.000000</td>\n",
       "      <td>0.000000</td>\n",
       "    </tr>\n",
       "    <tr>\n",
       "      <th>50%</th>\n",
       "      <td>4.000000</td>\n",
       "      <td>0.158000</td>\n",
       "    </tr>\n",
       "    <tr>\n",
       "      <th>75%</th>\n",
       "      <td>27.000000</td>\n",
       "      <td>0.400000</td>\n",
       "    </tr>\n",
       "    <tr>\n",
       "      <th>max</th>\n",
       "      <td>1479.000000</td>\n",
       "      <td>1.000000</td>\n",
       "    </tr>\n",
       "  </tbody>\n",
       "</table>\n",
       "</div>"
      ],
      "text/plain": [
       "             Count   Percentage\n",
       "count  5460.000000  5460.000000\n",
       "mean     36.229121     0.249451\n",
       "std      91.652298     0.283424\n",
       "min       0.000000     0.000000\n",
       "25%       0.000000     0.000000\n",
       "50%       4.000000     0.158000\n",
       "75%      27.000000     0.400000\n",
       "max    1479.000000     1.000000"
      ]
     },
     "execution_count": 32,
     "metadata": {},
     "output_type": "execute_result"
    }
   ],
   "source": [
    "some_data.describe()"
   ]
  },
  {
   "attachments": {},
   "cell_type": "markdown",
   "metadata": {},
   "source": [
    "<p>Importing Data from MySql</p>"
   ]
  },
  {
   "cell_type": "code",
   "execution_count": 29,
   "metadata": {},
   "outputs": [
    {
     "ename": "SyntaxError",
     "evalue": "invalid syntax (553624628.py, line 17)",
     "output_type": "error",
     "traceback": [
      "\u001b[1;36m  Cell \u001b[1;32mIn[29], line 17\u001b[1;36m\u001b[0m\n\u001b[1;33m    engine = create_engine(mysql:// + MYSQL_USERNAME + ':' + MYSQL_PASSWORD + '@' + MYSQL_URL + ':' + int(MYSQL_PORT) + '/' + MYSQL_DB)\u001b[0m\n\u001b[1;37m                                ^\u001b[0m\n\u001b[1;31mSyntaxError\u001b[0m\u001b[1;31m:\u001b[0m invalid syntax\n"
     ]
    }
   ],
   "source": [
    "import os\n",
    "\n",
    "import pymysql\n",
    "from dotenv import find_dotenv, load_dotenv\n",
    "import pandas as pd\n",
    "import numpy as np\n",
    "from sqlalchemy import create_engine\n",
    "\n",
    "load_dotenv(find_dotenv())\n",
    "\n",
    "MYSQL_DB = os.environ.get(\"MYSQL_DB\")\n",
    "MYSQL_USERNAME = os.environ.get(\"MYSQL_USERNAME\")\n",
    "MYSQL_PASSWORD = os.environ.get(\"MYSQL_PASSWORD\")\n",
    "MYSQL_URL = os.environ.get(\"MYSQL_URL\")\n",
    "MYSQL_PORT = os.environ.get(\"MYSQL_PORT\")\n",
    "\n",
    "engine = create_engine(mysql+pymysql:// + MYSQL_USERNAME + ':' + MYSQL_PASSWORD + '@' + MYSQL_URL + ':' + int(MYSQL_PORT) + '/' + MYSQL_DB)\n",
    "\n",
    "employees_df = pd.read_sql_table('city', con=engine)\n",
    "\n",
    "print(employees_df)"
   ]
  }
 ],
 "metadata": {
  "kernelspec": {
   "display_name": "pandas",
   "language": "python",
   "name": "python3"
  },
  "language_info": {
   "codemirror_mode": {
    "name": "ipython",
    "version": 3
   },
   "file_extension": ".py",
   "mimetype": "text/x-python",
   "name": "python",
   "nbconvert_exporter": "python",
   "pygments_lexer": "ipython3",
   "version": "3.11.3"
  },
  "orig_nbformat": 4
 },
 "nbformat": 4,
 "nbformat_minor": 2
}
